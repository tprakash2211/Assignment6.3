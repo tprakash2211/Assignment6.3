{
 "cells": [
  {
   "cell_type": "code",
   "execution_count": null,
   "metadata": {
    "collapsed": true
   },
   "outputs": [],
   "source": [
    "#Problem Statement 1:\n",
    "# In a class on 100 students, 80 students passed in all subjects, 10 failed in one subject, 7 failed in two subjects and 3 failed in three subjects. Find the probability distribution of the variable for number of subjects a student from the given class has failed in.\n",
    "# Note: Solution submitted via github must contain all the detailed steps.\n",
    "\n",
    "For a random student, \n",
    "The probability of failing in 0 subjects, P(X=0) = 0.8\n",
    "The probability of failing in 1 subjects, P(X=1) = 0.1\n",
    "The probability of failing in 2 subjects, P(X=2) = 0.07\n",
    "The probability of failing in 3 subjects, P(X=3) = 0.03\n",
    "\n",
    "Therefore the total probability distribution can be shown as:\n",
    "    P(Xt) = P(X=0) + P(X=1) + P(X=2) + P(X=3)\n",
    "    1 = 0.8 + 0.1 + 0.07 + 0.03"
   ]
  }
 ],
 "metadata": {
  "kernelspec": {
   "display_name": "Python 3",
   "language": "python",
   "name": "python3"
  },
  "language_info": {
   "codemirror_mode": {
    "name": "ipython",
    "version": 3
   },
   "file_extension": ".py",
   "mimetype": "text/x-python",
   "name": "python",
   "nbconvert_exporter": "python",
   "pygments_lexer": "ipython3",
   "version": "3.6.3"
  }
 },
 "nbformat": 4,
 "nbformat_minor": 2
}
